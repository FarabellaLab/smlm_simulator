{
 "cells": [
  {
   "cell_type": "markdown",
   "metadata": {},
   "source": [
    "# Intro\n",
    "\n",
    "Generate a single simulated segment and visualize it"
   ]
  },
  {
   "cell_type": "code",
   "execution_count": 24,
   "metadata": {},
   "outputs": [],
   "source": [
    "import numpy as np\n",
    "import pandas as pd\n",
    "import os\n",
    "import numpy as np\n",
    "from smlm_simulator.various import *\n",
    "from smlm_simulator.simulation import *\n",
    "import multiprocessing as mp\n",
    "from CIMA.utils.Visualization import *\n",
    "import sys\n",
    "import pyvista as pv\n",
    "\n",
    "import warnings\n",
    "warnings.filterwarnings(\"ignore\")"
   ]
  },
  {
   "cell_type": "code",
   "execution_count": 9,
   "metadata": {},
   "outputs": [],
   "source": [
    "dls, lengths = getChr21DLs()"
   ]
  },
  {
   "cell_type": "markdown",
   "metadata": {},
   "source": [
    "# Two segments at fixed distance"
   ]
  },
  {
   "cell_type": "code",
   "execution_count": 43,
   "metadata": {},
   "outputs": [],
   "source": [
    "probes_parameters={\n",
    "        'probes_per_mb': 5000*0.75, # <5000 # efficiency 25,50,75,100\n",
    "        'segment_width_nm': 500 # fixed for biological reasons (computed from the average folding ratio of chromatin (diameter=0.01*genomic_length))\n",
    "    }\n",
    "combination_parameters={\n",
    "        'segment_length_nm': 1000000, # same as the target\n",
    "        'segments_per_sim': 2, # same as the target\n",
    "        'segs_per_comb_is_random': False, # set false to have always same number\n",
    "        'num_simulations': 1,\n",
    "        'max_shift_amount_nm': 3000,\n",
    "        'arrangement': 'lattice',\n",
    "        'random_seed': 0\n",
    "    }\n",
    "localization_parameters={\n",
    "        'fov_size': np.array([10000, 4000, 4000]), # same as the target\n",
    "        'labels_per_probe': 2, # fixed for methodological reasons\n",
    "        'precision_mean': np.array([10.,10.,50.]), # same as the target\n",
    "        'precision_sd': np.array([5.,5.,20.]), # same as the target\n",
    "        'bleaching_prob': 0.25, # 0.1,0.2,0.5\n",
    "        'unbound_probes_per_bound': 100,\n",
    "        'attraction_towards_bound': False,\n",
    "        'attraction_iterations': 7,\n",
    "        'attraction_radius_nm': 1000,\n",
    "        'probe_width_nm': 120,\n",
    "        'attraction_factor': 10, # lennard jones epsilon=10\n",
    "        'random_noise_per_blinks': 70,\n",
    "        'detection_rate': 1\n",
    "    }"
   ]
  },
  {
   "cell_type": "code",
   "execution_count": 44,
   "metadata": {},
   "outputs": [
    {
     "name": "stdout",
     "output_type": "stream",
     "text": [
      "len(comb_def):  2\n"
     ]
    }
   ],
   "source": [
    "sims_dfs = simulate(dls, lengths, verbose=0,\n",
    "                                        probes_parameters=probes_parameters,\n",
    "                                        combination_parameters=combination_parameters,\n",
    "                                        localization_parameters=localization_parameters)"
   ]
  },
  {
   "cell_type": "code",
   "execution_count": 45,
   "metadata": {},
   "outputs": [
    {
     "data": {
      "text/plain": [
       "125450"
      ]
     },
     "execution_count": 45,
     "metadata": {},
     "output_type": "execute_result"
    }
   ],
   "source": [
    "len(sims_dfs[0])"
   ]
  },
  {
   "cell_type": "code",
   "execution_count": 46,
   "metadata": {},
   "outputs": [],
   "source": [
    "plotter = pv.Plotter()\n",
    "plotClustering3D(sims_dfs[0][['x','y','z']].values, sims_dfs[0]['type'], plotter=plotter, cmap='viridis')\n",
    "# plotter.show()\n",
    "exportPyVistaPlot(plotter)"
   ]
  },
  {
   "cell_type": "code",
   "execution_count": null,
   "metadata": {},
   "outputs": [],
   "source": []
  },
  {
   "cell_type": "markdown",
   "metadata": {},
   "source": [
    "# More segments in lattice"
   ]
  },
  {
   "cell_type": "code",
   "execution_count": 48,
   "metadata": {},
   "outputs": [],
   "source": [
    "probes_parameters={\n",
    "        'probes_per_mb': 5000*0.75, # <5000 # efficiency 25,50,75,100\n",
    "        'segment_width_nm': 500 # fixed for biological reasons (computed from the average folding ratio of chromatin (diameter=0.01*genomic_length))\n",
    "    }\n",
    "combination_parameters={\n",
    "        'segment_length_nm': 1000000, # same as the target\n",
    "        'segments_per_sim': 10, # same as the target\n",
    "        'segs_per_comb_is_random': False, # set false to have always same number\n",
    "        'num_simulations': 1,\n",
    "        'max_shift_amount_nm': 3000,\n",
    "        'arrangement': 'lattice',\n",
    "        'random_seed': 0\n",
    "    }\n",
    "localization_parameters={\n",
    "        'fov_size': np.array([10000, 10000, 10000]), # same as the target\n",
    "        'labels_per_probe': 2, # fixed for methodological reasons\n",
    "        'precision_mean': np.array([10.,10.,50.]), # same as the target\n",
    "        'precision_sd': np.array([5.,5.,20.]), # same as the target\n",
    "        'bleaching_prob': 0.25, # 0.1,0.2,0.5\n",
    "        'unbound_probes_per_bound': 160,\n",
    "        'attraction_towards_bound': False,\n",
    "        'attraction_iterations': 7,\n",
    "        'attraction_radius_nm': 1000,\n",
    "        'probe_width_nm': 120,\n",
    "        'attraction_factor': 10, # lennard jones epsilon=10\n",
    "        'random_noise_per_blinks': 50,\n",
    "        'detection_rate': 1\n",
    "    }"
   ]
  },
  {
   "cell_type": "code",
   "execution_count": 49,
   "metadata": {},
   "outputs": [
    {
     "name": "stdout",
     "output_type": "stream",
     "text": [
      "len(comb_def):  10\n"
     ]
    }
   ],
   "source": [
    "sims_dfs = simulate(dls, lengths, verbose=0,\n",
    "                                        probes_parameters=probes_parameters,\n",
    "                                        combination_parameters=combination_parameters,\n",
    "                                        localization_parameters=localization_parameters)"
   ]
  },
  {
   "cell_type": "code",
   "execution_count": 53,
   "metadata": {},
   "outputs": [
    {
     "data": {
      "text/html": [
       "<div>\n",
       "<style scoped>\n",
       "    .dataframe tbody tr th:only-of-type {\n",
       "        vertical-align: middle;\n",
       "    }\n",
       "\n",
       "    .dataframe tbody tr th {\n",
       "        vertical-align: top;\n",
       "    }\n",
       "\n",
       "    .dataframe thead th {\n",
       "        text-align: right;\n",
       "    }\n",
       "</style>\n",
       "<table border=\"1\" class=\"dataframe\">\n",
       "  <thead>\n",
       "    <tr style=\"text-align: right;\">\n",
       "      <th></th>\n",
       "      <th>x</th>\n",
       "      <th>y</th>\n",
       "      <th>z</th>\n",
       "      <th>moleculeIndex</th>\n",
       "      <th>precisionx_actual</th>\n",
       "      <th>precisiony_actual</th>\n",
       "      <th>precisionz_actual</th>\n",
       "      <th>type</th>\n",
       "      <th>cluster-ID</th>\n",
       "      <th>precisionx</th>\n",
       "      <th>precisiony</th>\n",
       "      <th>precisionz</th>\n",
       "    </tr>\n",
       "  </thead>\n",
       "  <tbody>\n",
       "    <tr>\n",
       "      <th>0</th>\n",
       "      <td>12219.222868</td>\n",
       "      <td>7910.908477</td>\n",
       "      <td>1283.400558</td>\n",
       "      <td>0</td>\n",
       "      <td>8.665165</td>\n",
       "      <td>16.203578</td>\n",
       "      <td>35.131214</td>\n",
       "      <td>0</td>\n",
       "      <td>0</td>\n",
       "      <td>10.0</td>\n",
       "      <td>10.0</td>\n",
       "      <td>50.0</td>\n",
       "    </tr>\n",
       "    <tr>\n",
       "      <th>1</th>\n",
       "      <td>12219.572973</td>\n",
       "      <td>7947.618098</td>\n",
       "      <td>1230.862630</td>\n",
       "      <td>0</td>\n",
       "      <td>8.665165</td>\n",
       "      <td>16.203578</td>\n",
       "      <td>35.131214</td>\n",
       "      <td>0</td>\n",
       "      <td>0</td>\n",
       "      <td>10.0</td>\n",
       "      <td>10.0</td>\n",
       "      <td>50.0</td>\n",
       "    </tr>\n",
       "    <tr>\n",
       "      <th>2</th>\n",
       "      <td>12217.199335</td>\n",
       "      <td>7926.361851</td>\n",
       "      <td>1239.990314</td>\n",
       "      <td>0</td>\n",
       "      <td>8.665165</td>\n",
       "      <td>16.203578</td>\n",
       "      <td>35.131214</td>\n",
       "      <td>0</td>\n",
       "      <td>0</td>\n",
       "      <td>10.0</td>\n",
       "      <td>10.0</td>\n",
       "      <td>50.0</td>\n",
       "    </tr>\n",
       "    <tr>\n",
       "      <th>3</th>\n",
       "      <td>12152.947114</td>\n",
       "      <td>8026.127620</td>\n",
       "      <td>1369.571384</td>\n",
       "      <td>1</td>\n",
       "      <td>8.197396</td>\n",
       "      <td>14.234506</td>\n",
       "      <td>27.634074</td>\n",
       "      <td>0</td>\n",
       "      <td>0</td>\n",
       "      <td>10.0</td>\n",
       "      <td>10.0</td>\n",
       "      <td>50.0</td>\n",
       "    </tr>\n",
       "    <tr>\n",
       "      <th>4</th>\n",
       "      <td>12173.595080</td>\n",
       "      <td>7996.241732</td>\n",
       "      <td>1353.584496</td>\n",
       "      <td>1</td>\n",
       "      <td>8.197396</td>\n",
       "      <td>14.234506</td>\n",
       "      <td>27.634074</td>\n",
       "      <td>0</td>\n",
       "      <td>0</td>\n",
       "      <td>10.0</td>\n",
       "      <td>10.0</td>\n",
       "      <td>50.0</td>\n",
       "    </tr>\n",
       "    <tr>\n",
       "      <th>...</th>\n",
       "      <td>...</td>\n",
       "      <td>...</td>\n",
       "      <td>...</td>\n",
       "      <td>...</td>\n",
       "      <td>...</td>\n",
       "      <td>...</td>\n",
       "      <td>...</td>\n",
       "      <td>...</td>\n",
       "      <td>...</td>\n",
       "      <td>...</td>\n",
       "      <td>...</td>\n",
       "      <td>...</td>\n",
       "    </tr>\n",
       "    <tr>\n",
       "      <th>1153677</th>\n",
       "      <td>13208.900008</td>\n",
       "      <td>12092.533605</td>\n",
       "      <td>499.244851</td>\n",
       "      <td>-1</td>\n",
       "      <td>NaN</td>\n",
       "      <td>NaN</td>\n",
       "      <td>NaN</td>\n",
       "      <td>2</td>\n",
       "      <td>-1</td>\n",
       "      <td>10.0</td>\n",
       "      <td>10.0</td>\n",
       "      <td>50.0</td>\n",
       "    </tr>\n",
       "    <tr>\n",
       "      <th>1153678</th>\n",
       "      <td>18862.026432</td>\n",
       "      <td>9128.401788</td>\n",
       "      <td>6775.646700</td>\n",
       "      <td>-1</td>\n",
       "      <td>NaN</td>\n",
       "      <td>NaN</td>\n",
       "      <td>NaN</td>\n",
       "      <td>2</td>\n",
       "      <td>-1</td>\n",
       "      <td>10.0</td>\n",
       "      <td>10.0</td>\n",
       "      <td>50.0</td>\n",
       "    </tr>\n",
       "    <tr>\n",
       "      <th>1153679</th>\n",
       "      <td>9796.608126</td>\n",
       "      <td>15619.679794</td>\n",
       "      <td>5320.447496</td>\n",
       "      <td>-1</td>\n",
       "      <td>NaN</td>\n",
       "      <td>NaN</td>\n",
       "      <td>NaN</td>\n",
       "      <td>2</td>\n",
       "      <td>-1</td>\n",
       "      <td>10.0</td>\n",
       "      <td>10.0</td>\n",
       "      <td>50.0</td>\n",
       "    </tr>\n",
       "    <tr>\n",
       "      <th>1153680</th>\n",
       "      <td>14298.470816</td>\n",
       "      <td>9314.397953</td>\n",
       "      <td>187.761369</td>\n",
       "      <td>-1</td>\n",
       "      <td>NaN</td>\n",
       "      <td>NaN</td>\n",
       "      <td>NaN</td>\n",
       "      <td>2</td>\n",
       "      <td>-1</td>\n",
       "      <td>10.0</td>\n",
       "      <td>10.0</td>\n",
       "      <td>50.0</td>\n",
       "    </tr>\n",
       "    <tr>\n",
       "      <th>1153681</th>\n",
       "      <td>18738.462218</td>\n",
       "      <td>12491.995646</td>\n",
       "      <td>-1382.276855</td>\n",
       "      <td>-1</td>\n",
       "      <td>NaN</td>\n",
       "      <td>NaN</td>\n",
       "      <td>NaN</td>\n",
       "      <td>2</td>\n",
       "      <td>-1</td>\n",
       "      <td>10.0</td>\n",
       "      <td>10.0</td>\n",
       "      <td>50.0</td>\n",
       "    </tr>\n",
       "  </tbody>\n",
       "</table>\n",
       "<p>1153682 rows × 12 columns</p>\n",
       "</div>"
      ],
      "text/plain": [
       "                    x             y            z  moleculeIndex  \\\n",
       "0        12219.222868   7910.908477  1283.400558              0   \n",
       "1        12219.572973   7947.618098  1230.862630              0   \n",
       "2        12217.199335   7926.361851  1239.990314              0   \n",
       "3        12152.947114   8026.127620  1369.571384              1   \n",
       "4        12173.595080   7996.241732  1353.584496              1   \n",
       "...               ...           ...          ...            ...   \n",
       "1153677  13208.900008  12092.533605   499.244851             -1   \n",
       "1153678  18862.026432   9128.401788  6775.646700             -1   \n",
       "1153679   9796.608126  15619.679794  5320.447496             -1   \n",
       "1153680  14298.470816   9314.397953   187.761369             -1   \n",
       "1153681  18738.462218  12491.995646 -1382.276855             -1   \n",
       "\n",
       "         precisionx_actual  precisiony_actual  precisionz_actual  type  \\\n",
       "0                 8.665165          16.203578          35.131214     0   \n",
       "1                 8.665165          16.203578          35.131214     0   \n",
       "2                 8.665165          16.203578          35.131214     0   \n",
       "3                 8.197396          14.234506          27.634074     0   \n",
       "4                 8.197396          14.234506          27.634074     0   \n",
       "...                    ...                ...                ...   ...   \n",
       "1153677                NaN                NaN                NaN     2   \n",
       "1153678                NaN                NaN                NaN     2   \n",
       "1153679                NaN                NaN                NaN     2   \n",
       "1153680                NaN                NaN                NaN     2   \n",
       "1153681                NaN                NaN                NaN     2   \n",
       "\n",
       "         cluster-ID  precisionx  precisiony  precisionz  \n",
       "0                 0        10.0        10.0        50.0  \n",
       "1                 0        10.0        10.0        50.0  \n",
       "2                 0        10.0        10.0        50.0  \n",
       "3                 0        10.0        10.0        50.0  \n",
       "4                 0        10.0        10.0        50.0  \n",
       "...             ...         ...         ...         ...  \n",
       "1153677          -1        10.0        10.0        50.0  \n",
       "1153678          -1        10.0        10.0        50.0  \n",
       "1153679          -1        10.0        10.0        50.0  \n",
       "1153680          -1        10.0        10.0        50.0  \n",
       "1153681          -1        10.0        10.0        50.0  \n",
       "\n",
       "[1153682 rows x 12 columns]"
      ]
     },
     "execution_count": 53,
     "metadata": {},
     "output_type": "execute_result"
    }
   ],
   "source": [
    "sims_dfs[0]"
   ]
  },
  {
   "cell_type": "code",
   "execution_count": 50,
   "metadata": {},
   "outputs": [
    {
     "data": {
      "text/plain": [
       "1153682"
      ]
     },
     "execution_count": 50,
     "metadata": {},
     "output_type": "execute_result"
    }
   ],
   "source": [
    "len(sims_dfs[0])"
   ]
  },
  {
   "cell_type": "code",
   "execution_count": 51,
   "metadata": {},
   "outputs": [],
   "source": [
    "plotter = pv.Plotter()\n",
    "plotClustering3D(sims_dfs[0][['x','y','z']].values, sims_dfs[0]['type'], plotter=plotter, cmap='viridis')\n",
    "# plotter.show()\n",
    "exportPyVistaPlot(plotter)"
   ]
  },
  {
   "cell_type": "markdown",
   "metadata": {},
   "source": [
    "# More segments at random"
   ]
  },
  {
   "cell_type": "code",
   "execution_count": 58,
   "metadata": {},
   "outputs": [],
   "source": [
    "probes_parameters={\n",
    "        'probes_per_mb': 5000*0.75, # <5000 # efficiency 25,50,75,100\n",
    "        'segment_width_nm': 500 # fixed for biological reasons (computed from the average folding ratio of chromatin (diameter=0.01*genomic_length))\n",
    "    }\n",
    "combination_parameters={\n",
    "        'segment_length_nm': 1000000, # same as the target\n",
    "        'segments_per_sim': 6, # same as the target\n",
    "        'segs_per_comb_is_random': False, # set false to have always same number\n",
    "        'num_simulations': 1,\n",
    "        'max_shift_amount_nm': 2000,\n",
    "        'arrangement': 'random',\n",
    "        'random_seed': 0\n",
    "    }\n",
    "localization_parameters={\n",
    "        'fov_size': np.array([8000, 8000, 8000]), # same as the target\n",
    "        'labels_per_probe': 2, # fixed for methodological reasons\n",
    "        'precision_mean': np.array([10.,10.,50.]), # same as the target\n",
    "        'precision_sd': np.array([5.,5.,20.]), # same as the target\n",
    "        'bleaching_prob': 0.25, # 0.1,0.2,0.5\n",
    "        'unbound_probes_per_bound': 160,\n",
    "        'attraction_towards_bound': False,\n",
    "        'attraction_iterations': 7,\n",
    "        'attraction_radius_nm': 1000,\n",
    "        'probe_width_nm': 120,\n",
    "        'attraction_factor': 10, # lennard jones epsilon=10\n",
    "        'random_noise_per_blinks': 50,\n",
    "        'detection_rate': 1\n",
    "    }"
   ]
  },
  {
   "cell_type": "code",
   "execution_count": 59,
   "metadata": {},
   "outputs": [
    {
     "name": "stdout",
     "output_type": "stream",
     "text": [
      "len(comb_def):  6\n"
     ]
    }
   ],
   "source": [
    "sims_dfs = simulate(dls, lengths, verbose=0,\n",
    "                                        probes_parameters=probes_parameters,\n",
    "                                        combination_parameters=combination_parameters,\n",
    "                                        localization_parameters=localization_parameters)"
   ]
  },
  {
   "cell_type": "code",
   "execution_count": 60,
   "metadata": {},
   "outputs": [
    {
     "data": {
      "text/plain": [
       "601652"
      ]
     },
     "execution_count": 60,
     "metadata": {},
     "output_type": "execute_result"
    }
   ],
   "source": [
    "len(sims_dfs[0])"
   ]
  },
  {
   "cell_type": "code",
   "execution_count": 64,
   "metadata": {},
   "outputs": [],
   "source": [
    "plotter = pv.Plotter()\n",
    "plotClustering3D(sims_dfs[0][['x','y','z']].values, sims_dfs[0]['cluster-ID'], plotter=plotter, cmap='viridis', show_noise=True)\n",
    "# plotter.show()\n",
    "exportPyVistaPlot(plotter)"
   ]
  },
  {
   "cell_type": "markdown",
   "metadata": {},
   "source": [
    "# More segments in tetrahedron"
   ]
  },
  {
   "cell_type": "code",
   "execution_count": 67,
   "metadata": {},
   "outputs": [],
   "source": [
    "probes_parameters={\n",
    "        'probes_per_mb': 5000*0.75, # <5000 # efficiency 25,50,75,100\n",
    "        'segment_width_nm': 500 # fixed for biological reasons (computed from the average folding ratio of chromatin (diameter=0.01*genomic_length))\n",
    "    }\n",
    "combination_parameters={\n",
    "        'segment_length_nm': 1000000, # same as the target\n",
    "        'segments_per_sim': 4, # same as the target\n",
    "        'segs_per_comb_is_random': False, # set false to have always same number\n",
    "        'num_simulations': 1,\n",
    "        'max_shift_amount_nm': 2000,\n",
    "        'arrangement': 'tetrahedron',\n",
    "        'random_seed': 0\n",
    "    }\n",
    "localization_parameters={\n",
    "        'fov_size': np.array([8000, 8000, 8000]), # same as the target\n",
    "        'labels_per_probe': 2, # fixed for methodological reasons\n",
    "        'precision_mean': np.array([10.,10.,50.]), # same as the target\n",
    "        'precision_sd': np.array([5.,5.,20.]), # same as the target\n",
    "        'bleaching_prob': 0.25, # 0.1,0.2,0.5\n",
    "        'unbound_probes_per_bound': 160,\n",
    "        'attraction_towards_bound': False,\n",
    "        'attraction_iterations': 7,\n",
    "        'attraction_radius_nm': 1000,\n",
    "        'probe_width_nm': 120,\n",
    "        'attraction_factor': 10, # lennard jones epsilon=10\n",
    "        'random_noise_per_blinks': 50,\n",
    "        'detection_rate': 1\n",
    "    }"
   ]
  },
  {
   "cell_type": "code",
   "execution_count": 68,
   "metadata": {},
   "outputs": [
    {
     "name": "stdout",
     "output_type": "stream",
     "text": [
      "len(comb_def):  4\n"
     ]
    }
   ],
   "source": [
    "sims_dfs = simulate(dls, lengths, verbose=0,\n",
    "                                        probes_parameters=probes_parameters,\n",
    "                                        combination_parameters=combination_parameters,\n",
    "                                        localization_parameters=localization_parameters)"
   ]
  },
  {
   "cell_type": "code",
   "execution_count": 69,
   "metadata": {},
   "outputs": [
    {
     "data": {
      "text/plain": [
       "566316"
      ]
     },
     "execution_count": 69,
     "metadata": {},
     "output_type": "execute_result"
    }
   ],
   "source": [
    "len(sims_dfs[0])"
   ]
  },
  {
   "cell_type": "code",
   "execution_count": 70,
   "metadata": {},
   "outputs": [],
   "source": [
    "plotter = pv.Plotter()\n",
    "plotClustering3D(sims_dfs[0][['x','y','z']].values, sims_dfs[0]['cluster-ID'], plotter=plotter, cmap='viridis', show_noise=True)\n",
    "# plotter.show()\n",
    "exportPyVistaPlot(plotter)"
   ]
  }
 ],
 "metadata": {
  "kernelspec": {
   "display_name": "Python 3 (ipykernel)",
   "language": "python",
   "name": "python3"
  },
  "language_info": {
   "codemirror_mode": {
    "name": "ipython",
    "version": 3
   },
   "file_extension": ".py",
   "mimetype": "text/x-python",
   "name": "python",
   "nbconvert_exporter": "python",
   "pygments_lexer": "ipython3",
   "version": "3.9.18"
  }
 },
 "nbformat": 4,
 "nbformat_minor": 2
}
