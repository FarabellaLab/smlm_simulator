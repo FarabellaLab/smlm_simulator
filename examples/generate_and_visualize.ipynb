{
 "cells": [
  {
   "cell_type": "markdown",
   "metadata": {},
   "source": [
    "### Generate a single simulated experiment and visualize it"
   ]
  },
  {
   "cell_type": "markdown",
   "metadata": {},
   "source": [
    "Imports"
   ]
  },
  {
   "cell_type": "code",
   "execution_count": 1,
   "metadata": {},
   "outputs": [],
   "source": [
    "import numpy as np\n",
    "import pandas as pd\n",
    "import os\n",
    "import numpy as np\n",
    "from smlm_simulator.various import *\n",
    "from smlm_simulator.simulation import *\n",
    "import multiprocessing as mp\n",
    "import sys\n",
    "import pyvista as pv\n",
    "\n",
    "import warnings\n",
    "warnings.filterwarnings(\"ignore\")"
   ]
  },
  {
   "cell_type": "markdown",
   "metadata": {},
   "source": [
    "Specify the simulation parameters"
   ]
  },
  {
   "cell_type": "code",
   "execution_count": 2,
   "metadata": {},
   "outputs": [],
   "source": [
    "probes_parameters={\n",
    "        'probes_per_mb': 5000*0.75, # <5000 # efficiency 25,50,75,100\n",
    "        'segment_width_nm': 500 # fixed for biological reasons (computed from the average folding ratio of chromatin (diameter=0.01*genomic_length))\n",
    "    }\n",
    "combination_parameters={\n",
    "        'segment_length_nm': 1000000, # same as the target\n",
    "        'segments_per_sim': 2, # same as the target\n",
    "        'segs_per_comb_is_random': False, # set false to have always same number\n",
    "        'num_simulations': 1,\n",
    "        'max_shift_amount_nm': 3000,\n",
    "        'arrangement': 'lattice',\n",
    "        'random_seed': 0\n",
    "    }\n",
    "localization_parameters={\n",
    "        'fov_size': np.array([10000, 4000, 4000]), # same as the target\n",
    "        'labels_per_probe': 2, # fixed for methodological reasons\n",
    "        'precision_mean': np.array([10.,10.,50.]), # same as the target\n",
    "        'precision_sd': np.array([5.,5.,20.]), # same as the target\n",
    "        'bleaching_prob': 0.25, # 0.1,0.2,0.5\n",
    "        'unbound_probes_per_bound': 160,\n",
    "        'attraction_towards_bound': False,\n",
    "        'attraction_iterations': 7,\n",
    "        'attraction_radius_nm': 1000,\n",
    "        'probe_width_nm': 120,\n",
    "        'attraction_factor': 10, # lennard jones epsilon=10\n",
    "        'random_noise_per_blinks': 50,\n",
    "        'detection_rate': 1\n",
    "    }"
   ]
  },
  {
   "cell_type": "markdown",
   "metadata": {},
   "source": [
    "Retrieve low-resolution traces of real chromosomes"
   ]
  },
  {
   "cell_type": "code",
   "execution_count": 3,
   "metadata": {},
   "outputs": [],
   "source": [
    "dls, lengths = getChr21DLs()"
   ]
  },
  {
   "cell_type": "markdown",
   "metadata": {},
   "source": [
    "Simulate"
   ]
  },
  {
   "cell_type": "code",
   "execution_count": 4,
   "metadata": {},
   "outputs": [
    {
     "name": "stdout",
     "output_type": "stream",
     "text": [
      "len(comb_def):  2\n"
     ]
    }
   ],
   "source": [
    "sims_dfs = simulate(dls, lengths, verbose=0,\n",
    "                                        probes_parameters=probes_parameters,\n",
    "                                        combination_parameters=combination_parameters,\n",
    "                                        localization_parameters=localization_parameters)"
   ]
  },
  {
   "cell_type": "markdown",
   "metadata": {},
   "source": [
    "Visualize"
   ]
  },
  {
   "cell_type": "code",
   "execution_count": 5,
   "metadata": {},
   "outputs": [],
   "source": [
    "plotter = pv.Plotter()\n",
    "plotter.add_points(sims_dfs[0][['x','y','z']].values, scalars=sims_dfs[0]['type'])\n",
    "\n",
    "# Use plotter.show() if you're working in local. This will display the plot directly inside this notebook, below this cell.\n",
    "# plotter.show()\n",
    "\n",
    "# Use exportPyVistaPlot to export the plot to an html file that can be opened in a browser.\n",
    "# This is useful for sharing the plot with others or you're running the notebook on remote machine, in which case plotter.show would throw an error.\n",
    "exportPyVistaPlot(plotter)"
   ]
  }
 ],
 "metadata": {
  "kernelspec": {
   "display_name": "Python 3 (ipykernel)",
   "language": "python",
   "name": "python3"
  },
  "language_info": {
   "codemirror_mode": {
    "name": "ipython",
    "version": 3
   },
   "file_extension": ".py",
   "mimetype": "text/x-python",
   "name": "python",
   "nbconvert_exporter": "python",
   "pygments_lexer": "ipython3",
   "version": "3.9.18"
  }
 },
 "nbformat": 4,
 "nbformat_minor": 2
}
