{
 "cells": [
  {
   "cell_type": "markdown",
   "metadata": {},
   "source": [
    "# Intro\n",
    "\n",
    "This notebook shows how to generate simulated experiments in which the segments are positioned in different ways in the field of view."
   ]
  },
  {
   "cell_type": "code",
   "execution_count": 24,
   "metadata": {},
   "outputs": [],
   "source": [
    "import numpy as np\n",
    "import pandas as pd\n",
    "import os\n",
    "import numpy as np\n",
    "from smlm_simulator.various import *\n",
    "from smlm_simulator.simulation import *\n",
    "import multiprocessing as mp\n",
    "from CIMA.utils.Visualization import *\n",
    "import sys\n",
    "import pyvista as pv\n",
    "\n",
    "import warnings\n",
    "warnings.filterwarnings(\"ignore\")"
   ]
  },
  {
   "cell_type": "markdown",
   "metadata": {},
   "source": [
    "Retrieve low-resolution traces of real chromosomes"
   ]
  },
  {
   "cell_type": "code",
   "execution_count": 9,
   "metadata": {},
   "outputs": [],
   "source": [
    "dls, lengths = getChr21DLs()"
   ]
  },
  {
   "cell_type": "markdown",
   "metadata": {},
   "source": [
    "# Two segments at fixed distance"
   ]
  },
  {
   "cell_type": "code",
   "execution_count": 43,
   "metadata": {},
   "outputs": [],
   "source": [
    "probes_parameters={\n",
    "        'probes_per_mb': 5000*0.75, # <5000 # efficiency 25,50,75,100\n",
    "        'segment_width_nm': 500 # fixed for biological reasons (computed from the average folding ratio of chromatin (diameter=0.01*genomic_length))\n",
    "    }\n",
    "combination_parameters={\n",
    "        'segment_length_nm': 1000000,\n",
    "        'segments_per_sim': 2, # <-----------------\n",
    "        'segs_per_comb_is_random': False, # set false to have always same number\n",
    "        'num_simulations': 1,\n",
    "        'max_shift_amount_nm': 3000,\n",
    "        'arrangement': 'lattice', # <-----------------\n",
    "        'random_seed': 0\n",
    "    }\n",
    "localization_parameters={\n",
    "        'fov_size': np.array([10000, 4000, 4000]),\n",
    "        'labels_per_probe': 2, # fixed for methodological reasons\n",
    "        'precision_mean': np.array([10.,10.,50.]),\n",
    "        'precision_sd': np.array([5.,5.,20.]),\n",
    "        'bleaching_prob': 0.25,\n",
    "        'unbound_probes_per_bound': 100,\n",
    "        'attraction_towards_bound': False,\n",
    "        'attraction_iterations': 7,\n",
    "        'attraction_radius_nm': 1000,\n",
    "        'probe_width_nm': 120,\n",
    "        'attraction_factor': 10,\n",
    "        'random_noise_per_blinks': 70,\n",
    "        'detection_rate': 1\n",
    "    }"
   ]
  },
  {
   "cell_type": "code",
   "execution_count": 44,
   "metadata": {},
   "outputs": [
    {
     "name": "stdout",
     "output_type": "stream",
     "text": [
      "len(comb_def):  2\n"
     ]
    }
   ],
   "source": [
    "sims_dfs = simulate(dls, lengths, verbose=0,\n",
    "                                        probes_parameters=probes_parameters,\n",
    "                                        combination_parameters=combination_parameters,\n",
    "                                        localization_parameters=localization_parameters)"
   ]
  },
  {
   "cell_type": "code",
   "execution_count": 46,
   "metadata": {},
   "outputs": [],
   "source": [
    "plotter = pv.Plotter()\n",
    "plotClustering3D(sims_dfs[0][['x','y','z']].values, sims_dfs[0]['type'], plotter=plotter, cmap='viridis')\n",
    "# plotter.show()\n",
    "exportPyVistaPlot(plotter)"
   ]
  },
  {
   "cell_type": "markdown",
   "metadata": {},
   "source": [
    "# More segments in a lattice"
   ]
  },
  {
   "cell_type": "code",
   "execution_count": 48,
   "metadata": {},
   "outputs": [],
   "source": [
    "probes_parameters={\n",
    "        'probes_per_mb': 5000*0.75, # <5000 # efficiency 25,50,75,100\n",
    "        'segment_width_nm': 500 # fixed for biological reasons (computed from the average folding ratio of chromatin (diameter=0.01*genomic_length))\n",
    "    }\n",
    "combination_parameters={\n",
    "        'segment_length_nm': 1000000, \n",
    "        'segments_per_sim': 10, # <-----------------\n",
    "        'segs_per_comb_is_random': False, # set false to have always same number\n",
    "        'num_simulations': 1,\n",
    "        'max_shift_amount_nm': 3000,\n",
    "        'arrangement': 'lattice', # <-----------------\n",
    "        'random_seed': 0\n",
    "    }\n",
    "localization_parameters={\n",
    "        'fov_size': np.array([10000, 10000, 10000]),\n",
    "        'labels_per_probe': 2, # fixed for methodological reasons\n",
    "        'precision_mean': np.array([10.,10.,50.]),\n",
    "        'precision_sd': np.array([5.,5.,20.]),\n",
    "        'bleaching_prob': 0.25,\n",
    "        'unbound_probes_per_bound': 160,\n",
    "        'attraction_towards_bound': False,\n",
    "        'attraction_iterations': 7,\n",
    "        'attraction_radius_nm': 1000,\n",
    "        'probe_width_nm': 120,\n",
    "        'attraction_factor': 10, # lennard jones epsilon=10\n",
    "        'random_noise_per_blinks': 50,\n",
    "        'detection_rate': 1\n",
    "    }"
   ]
  },
  {
   "cell_type": "code",
   "execution_count": 49,
   "metadata": {},
   "outputs": [
    {
     "name": "stdout",
     "output_type": "stream",
     "text": [
      "len(comb_def):  10\n"
     ]
    }
   ],
   "source": [
    "sims_dfs = simulate(dls, lengths, verbose=0,\n",
    "                                        probes_parameters=probes_parameters,\n",
    "                                        combination_parameters=combination_parameters,\n",
    "                                        localization_parameters=localization_parameters)"
   ]
  },
  {
   "cell_type": "code",
   "execution_count": 51,
   "metadata": {},
   "outputs": [],
   "source": [
    "plotter = pv.Plotter()\n",
    "plotClustering3D(sims_dfs[0][['x','y','z']].values, sims_dfs[0]['type'], plotter=plotter, cmap='viridis')\n",
    "# plotter.show()\n",
    "exportPyVistaPlot(plotter)"
   ]
  },
  {
   "cell_type": "markdown",
   "metadata": {},
   "source": [
    "# More segments at random"
   ]
  },
  {
   "cell_type": "code",
   "execution_count": 58,
   "metadata": {},
   "outputs": [],
   "source": [
    "probes_parameters={\n",
    "        'probes_per_mb': 5000*0.75, # <5000 # efficiency 25,50,75,100\n",
    "        'segment_width_nm': 500 # fixed for biological reasons (computed from the average folding ratio of chromatin (diameter=0.01*genomic_length))\n",
    "    }\n",
    "combination_parameters={\n",
    "        'segment_length_nm': 1000000,\n",
    "        'segments_per_sim': 6,\n",
    "        'segs_per_comb_is_random': False, # set false to have always same number\n",
    "        'num_simulations': 1,\n",
    "        'max_shift_amount_nm': 2000,\n",
    "        'arrangement': 'random', # <-----------------\n",
    "        'random_seed': 0\n",
    "    }\n",
    "localization_parameters={\n",
    "        'fov_size': np.array([8000, 8000, 8000]),\n",
    "        'labels_per_probe': 2, # fixed for methodological reasons\n",
    "        'precision_mean': np.array([10.,10.,50.]),\n",
    "        'precision_sd': np.array([5.,5.,20.]),\n",
    "        'bleaching_prob': 0.25,\n",
    "        'unbound_probes_per_bound': 160,\n",
    "        'attraction_towards_bound': False,\n",
    "        'attraction_iterations': 7,\n",
    "        'attraction_radius_nm': 1000,\n",
    "        'probe_width_nm': 120,\n",
    "        'attraction_factor': 10, # lennard jones epsilon=10\n",
    "        'random_noise_per_blinks': 50,\n",
    "        'detection_rate': 1\n",
    "    }"
   ]
  },
  {
   "cell_type": "code",
   "execution_count": 59,
   "metadata": {},
   "outputs": [
    {
     "name": "stdout",
     "output_type": "stream",
     "text": [
      "len(comb_def):  6\n"
     ]
    }
   ],
   "source": [
    "sims_dfs = simulate(dls, lengths, verbose=0,\n",
    "                                        probes_parameters=probes_parameters,\n",
    "                                        combination_parameters=combination_parameters,\n",
    "                                        localization_parameters=localization_parameters)"
   ]
  },
  {
   "cell_type": "code",
   "execution_count": 64,
   "metadata": {},
   "outputs": [],
   "source": [
    "plotter = pv.Plotter()\n",
    "plotClustering3D(sims_dfs[0][['x','y','z']].values, sims_dfs[0]['cluster-ID'], plotter=plotter, cmap='viridis', show_noise=True)\n",
    "# plotter.show()\n",
    "exportPyVistaPlot(plotter)"
   ]
  },
  {
   "cell_type": "markdown",
   "metadata": {},
   "source": [
    "# 4 segments in a tetrahedron"
   ]
  },
  {
   "cell_type": "code",
   "execution_count": 67,
   "metadata": {},
   "outputs": [],
   "source": [
    "probes_parameters={\n",
    "        'probes_per_mb': 5000*0.75, # <5000 # efficiency 25,50,75,100\n",
    "        'segment_width_nm': 500 # fixed for biological reasons (computed from the average folding ratio of chromatin (diameter=0.01*genomic_length))\n",
    "    }\n",
    "combination_parameters={\n",
    "        'segment_length_nm': 1000000,\n",
    "        'segments_per_sim': 4, # <-----------------\n",
    "        'segs_per_comb_is_random': False, # set false to have always same number\n",
    "        'num_simulations': 1,\n",
    "        'max_shift_amount_nm': 2000,\n",
    "        'arrangement': 'tetrahedron',  # <-----------------\n",
    "        'random_seed': 0\n",
    "    }\n",
    "localization_parameters={\n",
    "        'fov_size': np.array([8000, 8000, 8000]),\n",
    "        'labels_per_probe': 2, # fixed for methodological reasons\n",
    "        'precision_mean': np.array([10.,10.,50.]),\n",
    "        'precision_sd': np.array([5.,5.,20.]),\n",
    "        'bleaching_prob': 0.25,\n",
    "        'unbound_probes_per_bound': 160,\n",
    "        'attraction_towards_bound': False,\n",
    "        'attraction_iterations': 7,\n",
    "        'attraction_radius_nm': 1000,\n",
    "        'probe_width_nm': 120,\n",
    "        'attraction_factor': 10, # lennard jones epsilon=10\n",
    "        'random_noise_per_blinks': 50,\n",
    "        'detection_rate': 1\n",
    "    }"
   ]
  },
  {
   "cell_type": "code",
   "execution_count": 68,
   "metadata": {},
   "outputs": [
    {
     "name": "stdout",
     "output_type": "stream",
     "text": [
      "len(comb_def):  4\n"
     ]
    }
   ],
   "source": [
    "sims_dfs = simulate(dls, lengths, verbose=0,\n",
    "                                        probes_parameters=probes_parameters,\n",
    "                                        combination_parameters=combination_parameters,\n",
    "                                        localization_parameters=localization_parameters)"
   ]
  },
  {
   "cell_type": "code",
   "execution_count": 70,
   "metadata": {},
   "outputs": [],
   "source": [
    "plotter = pv.Plotter()\n",
    "plotClustering3D(sims_dfs[0][['x','y','z']].values, sims_dfs[0]['cluster-ID'], plotter=plotter, cmap='viridis', show_noise=True)\n",
    "# plotter.show()\n",
    "exportPyVistaPlot(plotter)"
   ]
  }
 ],
 "metadata": {
  "kernelspec": {
   "display_name": "Python 3 (ipykernel)",
   "language": "python",
   "name": "python3"
  },
  "language_info": {
   "codemirror_mode": {
    "name": "ipython",
    "version": 3
   },
   "file_extension": ".py",
   "mimetype": "text/x-python",
   "name": "python",
   "nbconvert_exporter": "python",
   "pygments_lexer": "ipython3",
   "version": "3.9.18"
  }
 },
 "nbformat": 4,
 "nbformat_minor": 2
}
