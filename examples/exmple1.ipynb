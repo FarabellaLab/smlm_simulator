{
 "cells": [
  {
   "cell_type": "code",
   "execution_count": 1,
   "metadata": {},
   "outputs": [],
   "source": [
    "import numpy as np\n",
    "import pandas as pd\n",
    "import os\n",
    "import numpy as np\n",
    "from smlm_simulator.various import *\n",
    "from smlm_simulator.simulation import *\n",
    "import multiprocessing as mp\n",
    "import sys\n",
    "import pyvista as pv\n",
    "\n",
    "import warnings\n",
    "warnings.filterwarnings(\"ignore\")"
   ]
  },
  {
   "cell_type": "code",
   "execution_count": 2,
   "metadata": {},
   "outputs": [],
   "source": [
    "probes_parameters={\n",
    "        'probes_per_mb': 5000*0.75, # <5000 # efficiency 25,50,75,100\n",
    "        'segment_width_nm': 500 # fixed for biological reasons (computed from the average folding ratio of chromatin (diameter=0.01*genomic_length))\n",
    "    }\n",
    "combination_parameters={\n",
    "        'segment_length_nm': 1000000, # same as the target\n",
    "        'segments_per_sim': 2, # same as the target\n",
    "        'segs_per_comb_is_random': False, # set false to have always same number\n",
    "        'num_simulations': 1,\n",
    "        'max_shift_amount_nm': 3000,\n",
    "        'arrangement': 'lattice',\n",
    "        'random_seed': 0\n",
    "    }\n",
    "localization_parameters={\n",
    "        'fov_size': np.array([10000, 4000, 4000]), # same as the target\n",
    "        'labels_per_probe': 2, # fixed for methodological reasons\n",
    "        'precision_mean': np.array([10.,10.,50.]), # same as the target\n",
    "        # 'precision_mean': np.array([8.,8.,25.]), # same as the target\n",
    "        'precision_sd': np.array([5.,5.,20.]), # same as the target\n",
    "        # 'precision_sd': np.array([3.,3.,8.]), # same as the target\n",
    "        # 'precision_sd': np.array([2.,2.,7.]), # same as the target\n",
    "        'bleaching_prob': 0.25, # 0.1,0.2,0.5\n",
    "        'unbound_probes_per_bound': 160,\n",
    "        'attraction_towards_bound': False,\n",
    "        'attraction_iterations': 7,\n",
    "        'attraction_radius_nm': 1000,\n",
    "        'probe_width_nm': 120,\n",
    "        'attraction_factor': 10, # lennard jones epsilon=10\n",
    "        'random_noise_per_blinks': 50,\n",
    "        'detection_rate': 1\n",
    "    }"
   ]
  },
  {
   "cell_type": "code",
   "execution_count": 6,
   "metadata": {},
   "outputs": [],
   "source": [
    "probes_parameters = {\n",
    "    'probes_per_mb': 5000*0.75,\n",
    "    'segment_width_nm': 500\n",
    "    }\n",
    "combination_parameters = {\n",
    "    'segment_length_nm': 1000000,\n",
    "    'segments_per_sim': 2,\n",
    "    'segs_per_comb_is_random': False,\n",
    "    'selection_procedure': 'random',\n",
    "    'num_simulations': 1,\n",
    "    'max_shift_amount_nm': 3000,\n",
    "    'arrangement': 'lattice',\n",
    "    'random_seed': 0\n",
    "}\n",
    "localization_parameters = {\n",
    "    'fov_size': np.array([10000, 4000, 4000]),\n",
    "    'labels_per_probe': 2,\n",
    "    'precision_mean': np.array([10.,10.,50.]),\n",
    "    'precision_sd': np.array([5.,5.,20.]),\n",
    "    'bleaching_prob': 0.25,\n",
    "    'unbound_probes_per_bound': 160,\n",
    "    'is_unbound_rate_random': True,\n",
    "    'attraction_towards_bound': False,\n",
    "    'attraction_iterations': 7,\n",
    "    'attraction_radius_nm': 1000,\n",
    "    'probe_width_nm': 120,\n",
    "    'attraction_factor': 10,\n",
    "    'random_noise_per_blinks': 50,\n",
    "    'detection_rate': 1.0\n",
    "}"
   ]
  },
  {
   "cell_type": "code",
   "execution_count": 3,
   "metadata": {},
   "outputs": [],
   "source": [
    "dls, lengths = getChr21DLs()"
   ]
  },
  {
   "cell_type": "code",
   "execution_count": 7,
   "metadata": {},
   "outputs": [
    {
     "name": "stdout",
     "output_type": "stream",
     "text": [
      "len(comb_def):  2\n"
     ]
    }
   ],
   "source": [
    "sims_dfs = simulate(dls, lengths, verbose=0,\n",
    "                                        probes_parameters=probes_parameters,\n",
    "                                        combination_parameters=combination_parameters,\n",
    "                                        localization_parameters=localization_parameters)"
   ]
  },
  {
   "cell_type": "code",
   "execution_count": 8,
   "metadata": {},
   "outputs": [
    {
     "data": {
      "text/plain": [
       "1"
      ]
     },
     "execution_count": 8,
     "metadata": {},
     "output_type": "execute_result"
    }
   ],
   "source": [
    "len()"
   ]
  },
  {
   "cell_type": "code",
   "execution_count": 2,
   "metadata": {},
   "outputs": [
    {
     "ename": "",
     "evalue": "",
     "output_type": "error",
     "traceback": [
      "\u001b[1;31mThe Kernel crashed while executing code in the the current cell or a previous cell. Please review the code in the cell(s) to identify a possible cause of the failure. Click <a href='https://aka.ms/vscodeJupyterKernelCrash'>here</a> for more info. View Jupyter <a href='command:jupyter.viewOutput'>log</a> for further details."
     ]
    }
   ],
   "source": [
    "pv.Sphere().plot()"
   ]
  },
  {
   "cell_type": "code",
   "execution_count": 12,
   "metadata": {},
   "outputs": [
    {
     "ename": "",
     "evalue": "",
     "output_type": "error",
     "traceback": [
      "\u001b[1;31mThe Kernel crashed while executing code in the the current cell or a previous cell. Please review the code in the cell(s) to identify a possible cause of the failure. Click <a href='https://aka.ms/vscodeJupyterKernelCrash'>here</a> for more info. View Jupyter <a href='command:jupyter.viewOutput'>log</a> for further details."
     ]
    }
   ],
   "source": [
    "plotter = pv.Plotter()\n",
    "plotter.add_points(sims_dfs[0][['x','y','z']].values, scalars=sims_dfs[0]['type'])\n",
    "plotter.show()a"
   ]
  }
 ],
 "metadata": {
  "kernelspec": {
   "display_name": "base",
   "language": "python",
   "name": "python3"
  },
  "language_info": {
   "codemirror_mode": {
    "name": "ipython",
    "version": 3
   },
   "file_extension": ".py",
   "mimetype": "text/x-python",
   "name": "python",
   "nbconvert_exporter": "python",
   "pygments_lexer": "ipython3",
   "version": "3.9.18"
  }
 },
 "nbformat": 4,
 "nbformat_minor": 2
}
